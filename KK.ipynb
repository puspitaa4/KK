{
  "cells": [
    {
      "cell_type": "markdown",
      "metadata": {
        "id": "npy1OV6Ph0ht"
      },
      "source": [
        "# Deteksi Dini Penyakit Stroke menggunakan Naive Bayes berdasarkan Dataset Kesehatan dengan normalisasi MinMax"
      ]
    },
    {
      "cell_type": "markdown",
      "metadata": {
        "id": "hLoYWd4Pi4Rl"
      },
      "source": [
        "## Data Understanding"
      ]
    },
    {
      "cell_type": "markdown",
      "metadata": {
        "id": "Pfvsm2G0j2iL"
      },
      "source": [
        "### Inisialisasi data awal"
      ]
    },
    {
      "cell_type": "code",
      "execution_count": 1,
      "metadata": {
        "colab": {
          "base_uri": "https://localhost:8080/"
        },
        "id": "P2RDlGLji628",
        "outputId": "c4a6b9f5-4723-4e77-f521-1d28baa3a18e"
      },
      "outputs": [
        {
          "name": "stdout",
          "output_type": "stream",
          "text": [
            "<class 'pandas.core.frame.DataFrame'>\n",
            "RangeIndex: 5110 entries, 0 to 5109\n",
            "Data columns (total 12 columns):\n",
            " #   Column             Non-Null Count  Dtype  \n",
            "---  ------             --------------  -----  \n",
            " 0   id                 5110 non-null   int64  \n",
            " 1   gender             5110 non-null   object \n",
            " 2   age                5110 non-null   float64\n",
            " 3   hypertension       5110 non-null   int64  \n",
            " 4   heart_disease      5110 non-null   int64  \n",
            " 5   ever_married       5110 non-null   object \n",
            " 6   work_type          5110 non-null   object \n",
            " 7   Residence_type     5110 non-null   object \n",
            " 8   avg_glucose_level  5110 non-null   float64\n",
            " 9   bmi                4909 non-null   float64\n",
            " 10  smoking_status     5110 non-null   object \n",
            " 11  stroke             5110 non-null   int64  \n",
            "dtypes: float64(3), int64(4), object(5)\n",
            "memory usage: 479.2+ KB\n",
            "None\n",
            "Visualisasi Data:\n",
            "      id  gender   age  hypertension  heart_disease ever_married  \\\n",
            "0   9046    Male  67.0             0              1          Yes   \n",
            "1  51676  Female  61.0             0              0          Yes   \n",
            "2  31112    Male  80.0             0              1          Yes   \n",
            "3  60182  Female  49.0             0              0          Yes   \n",
            "4   1665  Female  79.0             1              0          Yes   \n",
            "\n",
            "       work_type Residence_type  avg_glucose_level   bmi   smoking_status  \\\n",
            "0        Private          Urban             228.69  36.6  formerly smoked   \n",
            "1  Self-employed          Rural             202.21   NaN     never smoked   \n",
            "2        Private          Rural             105.92  32.5     never smoked   \n",
            "3        Private          Urban             171.23  34.4           smokes   \n",
            "4  Self-employed          Rural             174.12  24.0     never smoked   \n",
            "\n",
            "   stroke  \n",
            "0       1  \n",
            "1       1  \n",
            "2       1  \n",
            "3       1  \n",
            "4       1  \n"
          ]
        }
      ],
      "source": [
        "import pandas as pd\n",
        "\n",
        "# Baca file Excel\n",
        "df = pd.read_csv(\"D:\\KK\\healthcare-dataset-stroke-data.csv\", na_values=['N/A'])\n",
        "\n",
        "# Lihat isi data\n",
        "print(df.info())\n",
        "\n",
        "print(\"Visualisasi Data:\")\n",
        "print(df.head())\n"
      ]
    },
    {
      "cell_type": "markdown",
      "metadata": {
        "id": "CH8D5eusjgzQ"
      },
      "source": [
        "### Visualisasi setelah di drop beberapa kolom"
      ]
    },
    {
      "cell_type": "code",
      "execution_count": 2,
      "metadata": {
        "colab": {
          "base_uri": "https://localhost:8080/"
        },
        "id": "nWmHmDVijrJp",
        "outputId": "59c6fca5-a763-48b8-ed17-f6b155d18fb5"
      },
      "outputs": [
        {
          "name": "stdout",
          "output_type": "stream",
          "text": [
            "<class 'pandas.core.frame.DataFrame'>\n",
            "RangeIndex: 5110 entries, 0 to 5109\n",
            "Data columns (total 9 columns):\n",
            " #   Column             Non-Null Count  Dtype  \n",
            "---  ------             --------------  -----  \n",
            " 0   id                 5110 non-null   int64  \n",
            " 1   gender             5110 non-null   object \n",
            " 2   age                5110 non-null   float64\n",
            " 3   hypertension       5110 non-null   int64  \n",
            " 4   heart_disease      5110 non-null   int64  \n",
            " 5   avg_glucose_level  5110 non-null   float64\n",
            " 6   bmi                4909 non-null   float64\n",
            " 7   smoking_status     5110 non-null   object \n",
            " 8   stroke             5110 non-null   int64  \n",
            "dtypes: float64(3), int64(4), object(2)\n",
            "memory usage: 359.4+ KB\n",
            "None\n",
            "Visualisasi Data:\n",
            "         id  gender   age  hypertension  heart_disease  avg_glucose_level  \\\n",
            "0      9046    Male  67.0             0              1             228.69   \n",
            "1     51676  Female  61.0             0              0             202.21   \n",
            "2     31112    Male  80.0             0              1             105.92   \n",
            "3     60182  Female  49.0             0              0             171.23   \n",
            "4      1665  Female  79.0             1              0             174.12   \n",
            "...     ...     ...   ...           ...            ...                ...   \n",
            "5105  18234  Female  80.0             1              0              83.75   \n",
            "5106  44873  Female  81.0             0              0             125.20   \n",
            "5107  19723  Female  35.0             0              0              82.99   \n",
            "5108  37544    Male  51.0             0              0             166.29   \n",
            "5109  44679  Female  44.0             0              0              85.28   \n",
            "\n",
            "       bmi   smoking_status  stroke  \n",
            "0     36.6  formerly smoked       1  \n",
            "1      NaN     never smoked       1  \n",
            "2     32.5     never smoked       1  \n",
            "3     34.4           smokes       1  \n",
            "4     24.0     never smoked       1  \n",
            "...    ...              ...     ...  \n",
            "5105   NaN     never smoked       0  \n",
            "5106  40.0     never smoked       0  \n",
            "5107  30.6     never smoked       0  \n",
            "5108  25.6  formerly smoked       0  \n",
            "5109  26.2          Unknown       0  \n",
            "\n",
            "[5110 rows x 9 columns]\n"
          ]
        }
      ],
      "source": [
        "import pandas as pd\n",
        "\n",
        "# Baca file Excel\n",
        "df = pd.read_csv(\"D:\\KK\\healthcare-dataset-stroke-data.csv\")\n",
        "\n",
        "\n",
        "# Drop kolom yang tidak diinginkan\n",
        "df = df.drop(columns=['ever_married', 'work_type', 'Residence_type'])\n",
        "\n",
        "# Lihat isi data\n",
        "print(df.info())\n",
        "\n",
        "print(\"Visualisasi Data:\")\n",
        "print(df)\n"
      ]
    },
    {
      "cell_type": "markdown",
      "metadata": {
        "id": "06MmSN2sjD2F"
      },
      "source": [
        "## Data Preprocessing"
      ]
    },
    {
      "cell_type": "markdown",
      "metadata": {
        "id": "_kuxiQ6VkpwQ"
      },
      "source": [
        "### Penanganan Missing Value"
      ]
    },
    {
      "cell_type": "code",
      "execution_count": 3,
      "metadata": {
        "colab": {
          "base_uri": "https://localhost:8080/"
        },
        "id": "GIwDIn96ksJZ",
        "outputId": "47d150c2-35c1-491a-db6e-4491606d0e8a"
      },
      "outputs": [
        {
          "name": "stdout",
          "output_type": "stream",
          "text": [
            "Jumlah missing value (termasuk 'N/A') per kolom:\n",
            "id                     0\n",
            "gender                 0\n",
            "age                    0\n",
            "hypertension           0\n",
            "heart_disease          0\n",
            "avg_glucose_level      0\n",
            "bmi                  201\n",
            "smoking_status         0\n",
            "stroke                 0\n",
            "dtype: int64\n"
          ]
        }
      ],
      "source": [
        "import numpy as np\n",
        "import pandas as pd\n",
        "\n",
        "# Misalnya df sudah dibuat, ubah 'N/A' menjadi NaN\n",
        "df = df.replace('N/A', np.nan)\n",
        "\n",
        "# Hitung jumlah missing value (NaN) per kolom\n",
        "missing_values = df.isnull().sum()\n",
        "print(\"Jumlah missing value (termasuk 'N/A') per kolom:\")\n",
        "print(missing_values)\n"
      ]
    },
    {
      "cell_type": "markdown",
      "metadata": {
        "id": "xqiNBe3UllyB"
      },
      "source": [
        "### Standarisasi Data"
      ]
    },
    {
      "cell_type": "markdown",
      "metadata": {
        "id": "ZBT0mRRalxh_"
      },
      "source": [
        "Disini kita melakukan normalisasi data dengan menggunakan MinMaxScaler dari library sklearn sekaligus melakukan penanganan missing value"
      ]
    },
    {
      "cell_type": "code",
      "execution_count": 4,
      "metadata": {
        "colab": {
          "base_uri": "https://localhost:8080/"
        },
        "id": "DxMx1EXPkQoT",
        "outputId": "377be2f1-3f1e-4052-d3db-6441de9894aa"
      },
      "outputs": [
        {
          "name": "stdout",
          "output_type": "stream",
          "text": [
            "         id  gender   age  hypertension  heart_disease  avg_glucose_level  \\\n",
            "0      9046    Male  67.0             0              1             228.69   \n",
            "1     51676  Female  61.0             0              0             202.21   \n",
            "2     31112    Male  80.0             0              1             105.92   \n",
            "3     60182  Female  49.0             0              0             171.23   \n",
            "4      1665  Female  79.0             1              0             174.12   \n",
            "...     ...     ...   ...           ...            ...                ...   \n",
            "5105  18234  Female  80.0             1              0              83.75   \n",
            "5106  44873  Female  81.0             0              0             125.20   \n",
            "5107  19723  Female  35.0             0              0              82.99   \n",
            "5108  37544    Male  51.0             0              0             166.29   \n",
            "5109  44679  Female  44.0             0              0              85.28   \n",
            "\n",
            "           bmi   smoking_status  stroke  \n",
            "0     0.301260  formerly smoked       1  \n",
            "1     0.203895     never smoked       1  \n",
            "2     0.254296     never smoked       1  \n",
            "3     0.276060           smokes       1  \n",
            "4     0.156930     never smoked       1  \n",
            "...        ...              ...     ...  \n",
            "5105  0.203895     never smoked       0  \n",
            "5106  0.340206     never smoked       0  \n",
            "5107  0.232532     never smoked       0  \n",
            "5108  0.175258  formerly smoked       0  \n",
            "5109  0.182131          Unknown       0  \n",
            "\n",
            "[5110 rows x 9 columns]\n"
          ]
        }
      ],
      "source": [
        "import pandas as pd\n",
        "from sklearn.preprocessing import MinMaxScaler\n",
        "\n",
        "# Tangani missing value pada kolom 'bmi' dengan imputasi (mean, bisa juga median)\n",
        "df['bmi'] = df['bmi'].fillna(df['bmi'].median())\n",
        "\n",
        "# Inisialisasi MinMaxScaler\n",
        "scaler = MinMaxScaler()\n",
        "\n",
        "# Normalisasi kolom 'bmi' (hasilnya dalam bentuk array, ubah jadi Series)\n",
        "df['bmi'] = scaler.fit_transform(df[['bmi']])\n",
        "\n",
        "# Tampilkan hasil\n",
        "print(df)\n"
      ]
    },
    {
      "cell_type": "markdown",
      "metadata": {
        "id": "_sCZYKy8nLI5"
      },
      "source": [
        "### Encoding Label"
      ]
    },
    {
      "cell_type": "code",
      "execution_count": 5,
      "metadata": {
        "colab": {
          "base_uri": "https://localhost:8080/"
        },
        "id": "p1LjOcw8jJWX",
        "outputId": "5f2a0654-02dd-4436-8269-4f4e4ed05363"
      },
      "outputs": [
        {
          "name": "stdout",
          "output_type": "stream",
          "text": [
            "         id  gender   age  hypertension  heart_disease  avg_glucose_level  \\\n",
            "0      9046       1  67.0             0              1             228.69   \n",
            "1     51676       0  61.0             0              0             202.21   \n",
            "2     31112       1  80.0             0              1             105.92   \n",
            "3     60182       0  49.0             0              0             171.23   \n",
            "4      1665       0  79.0             1              0             174.12   \n",
            "...     ...     ...   ...           ...            ...                ...   \n",
            "5105  18234       0  80.0             1              0              83.75   \n",
            "5106  44873       0  81.0             0              0             125.20   \n",
            "5107  19723       0  35.0             0              0              82.99   \n",
            "5108  37544       1  51.0             0              0             166.29   \n",
            "5109  44679       0  44.0             0              0              85.28   \n",
            "\n",
            "           bmi  smoking_status  stroke  \n",
            "0     0.301260               1       1  \n",
            "1     0.203895               2       1  \n",
            "2     0.254296               2       1  \n",
            "3     0.276060               3       1  \n",
            "4     0.156930               2       1  \n",
            "...        ...             ...     ...  \n",
            "5105  0.203895               2       0  \n",
            "5106  0.340206               2       0  \n",
            "5107  0.232532               2       0  \n",
            "5108  0.175258               1       0  \n",
            "5109  0.182131               0       0  \n",
            "\n",
            "[5110 rows x 9 columns]\n"
          ]
        }
      ],
      "source": [
        "from sklearn.preprocessing import LabelEncoder\n",
        "\n",
        "# Inisialisasi LabelEncoder\n",
        "le = LabelEncoder()\n",
        "\n",
        "# Label Encoding untuk kolom 'gender'\n",
        "df['gender'] = le.fit_transform(df['gender'])\n",
        "\n",
        "# Label Encoding untuk kolom 'smoking_status'\n",
        "df['smoking_status'] = le.fit_transform(df['smoking_status'])\n",
        "\n",
        "# Cek hasilnya\n",
        "print(df)\n"
      ]
    },
    {
      "cell_type": "markdown",
      "metadata": {
        "id": "rE79T42VjQuo"
      },
      "source": [
        "#Pisahkan Fitur & Target"
      ]
    },
    {
      "cell_type": "code",
      "execution_count": 6,
      "metadata": {
        "id": "AlxZzY3JjYc4"
      },
      "outputs": [],
      "source": [
        "# Misalkan df adalah DataFrame kamu dan 'stroke' adalah target\n",
        "X = df.drop(columns=['stroke'])  # Fitur\n",
        "y = df['stroke']                 # Target\n",
        "\n"
      ]
    },
    {
      "cell_type": "markdown",
      "metadata": {
        "id": "n3JOKHnrjeK_"
      },
      "source": [
        "## Splitting Data"
      ]
    },
    {
      "cell_type": "code",
      "execution_count": 7,
      "metadata": {
        "id": "DW4vop9IjjAi"
      },
      "outputs": [],
      "source": [
        "from sklearn.model_selection import train_test_split\n",
        "\n",
        "\n",
        "# 2. Split data: 80% training, 20% testing\n",
        "X_train, X_test, y_train, y_test = train_test_split(\n",
        "    X, y, test_size=0.2, random_state=42\n",
        ")\n"
      ]
    },
    {
      "cell_type": "code",
      "execution_count": 8,
      "metadata": {},
      "outputs": [
        {
          "name": "stdout",
          "output_type": "stream",
          "text": [
            "Index(['id', 'gender', 'age', 'hypertension', 'heart_disease',\n",
            "       'avg_glucose_level', 'bmi', 'smoking_status'],\n",
            "      dtype='object')\n"
          ]
        }
      ],
      "source": [
        "print(X_train.columns)"
      ]
    },
    {
      "cell_type": "markdown",
      "metadata": {
        "id": "Xx-bKy5boDZV"
      },
      "source": [
        "## Modelling menggunakan Naive Bayes"
      ]
    },
    {
      "cell_type": "code",
      "execution_count": 9,
      "metadata": {
        "colab": {
          "base_uri": "https://localhost:8080/",
          "height": 601
        },
        "id": "i28deRFuoCbV",
        "outputId": "35da2429-c68f-43f3-b108-5630b8f99d6e"
      },
      "outputs": [
        {
          "name": "stdout",
          "output_type": "stream",
          "text": [
            "Akurasi: 0.9315068493150684\n",
            "Laporan Klasifikasi:\n",
            "               precision    recall  f1-score   support\n",
            "\n",
            "           0       0.95      0.98      0.96       960\n",
            "           1       0.38      0.21      0.27        62\n",
            "\n",
            "    accuracy                           0.93      1022\n",
            "   macro avg       0.67      0.59      0.62      1022\n",
            "weighted avg       0.92      0.93      0.92      1022\n",
            "\n"
          ]
        },
        {
          "data": {
            "image/png": "[encoded data removed]",
            "text/plain": [
              "<Figure size 600x400 with 2 Axes>"
            ]
          },
          "metadata": {},
          "output_type": "display_data"
        }
      ],
      "source": [
        "from sklearn.naive_bayes import GaussianNB\n",
        "from sklearn.metrics import accuracy_score, classification_report, confusion_matrix\n",
        "from sklearn.model_selection import train_test_split\n",
        "import seaborn as sns\n",
        "import matplotlib.pyplot as plt\n",
        "\n",
        "# 3. Inisialisasi dan latih model Naive Bayes\n",
        "model = GaussianNB()\n",
        "model.fit(X_train, y_train)\n",
        "\n",
        "# 4. Prediksi dan evaluasi\n",
        "y_pred = model.predict(X_test)\n",
        "\n",
        "# Evaluasi akurasi dan laporan klasifikasi\n",
        "print(\"Akurasi:\", accuracy_score(y_test, y_pred))\n",
        "print(\"Laporan Klasifikasi:\\n\", classification_report(y_test, y_pred))\n",
        "\n",
        "# Hitung confusion matrix\n",
        "cm = confusion_matrix(y_test, y_pred)\n",
        "\n",
        "# Buat heatmap\n",
        "plt.figure(figsize=(6, 4))\n",
        "sns.heatmap(cm, annot=True, fmt='d', cmap='Blues', xticklabels=[0,1], yticklabels=[0,1])\n",
        "plt.xlabel('Predicted Label')\n",
        "plt.ylabel('True Label')\n",
        "plt.title('Confusion Matrix')\n",
        "plt.show()"
      ]
    },
    {
      "cell_type": "markdown",
      "metadata": {
        "id": "rF3-BtJXpzUT"
      },
      "source": [
        "### Simpan hasil modelling ke file pkl"
      ]
    },
    {
      "cell_type": "code",
      "execution_count": 10,
      "metadata": {
        "colab": {
          "base_uri": "https://localhost:8080/"
        },
        "id": "UliqvDoUp9_I",
        "outputId": "171cf249-015e-4bb9-a2e8-e164243a2d30"
      },
      "outputs": [
        {
          "name": "stdout",
          "output_type": "stream",
          "text": [
            "Model berhasil disimpan ke naive_bayes_stroke_model.pkl\n"
          ]
        }
      ],
      "source": [
        "import joblib\n",
        "\n",
        "# Misalnya model sudah dilatih\n",
        "# model = GaussianNB()\n",
        "# model.fit(X_train, y_train)\n",
        "\n",
        "# Simpan model ke file .pkl\n",
        "joblib.dump(model, 'naive_bayes_stroke_model.pkl')\n",
        "\n",
        "print(\"Model berhasil disimpan ke naive_bayes_stroke_model.pkl\")\n"
      ]
    },
    {
      "cell_type": "markdown",
      "metadata": {
        "id": "NwfXMnGdjuD7"
      },
      "source": [
        "## Evaluasi Data"
      ]
    },
    {
      "cell_type": "markdown",
      "metadata": {
        "id": "BSIeqSqwpApj"
      },
      "source": [
        "Model Naive Bayes diatas menghasilkan akurasi sebesar 93,15%, yang berarti dari seluruh data uji, sebanyak 93,15% prediksi model sesuai dengan label sebenarnya (stroke atau tidak stroke)"
      ]
    }
  ],
  "metadata": {
    "colab": {
      "provenance": []
    },
    "kernelspec": {
      "display_name": "Python 3",
      "name": "python3"
    },
    "language_info": {
      "codemirror_mode": {
        "name": "ipython",
        "version": 3
      },
      "file_extension": ".py",
      "mimetype": "text/x-python",
      "name": "python",
      "nbconvert_exporter": "python",
      "pygments_lexer": "ipython3",
      "version": "3.11.4"
    }
  },
  "nbformat": 4,
  "nbformat_minor": 0
}
